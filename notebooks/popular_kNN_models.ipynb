{
 "cells": [
  {
   "cell_type": "markdown",
   "id": "b304ead1",
   "metadata": {},
   "source": [
    "# Data Loading"
   ]
  },
  {
   "cell_type": "code",
   "execution_count": 1,
   "id": "9c998890",
   "metadata": {},
   "outputs": [],
   "source": [
    "import pandas as pd\n",
    "import numpy as np\n",
    "import scipy as sp\n",
    "import requests\n",
    "from tqdm.auto import tqdm\n",
    "from scipy.stats import mode \n",
    "from pprint import pprint\n",
    "from implicit.nearest_neighbours import CosineRecommender\n",
    "import warnings\n",
    "warnings.filterwarnings(\"ignore\")\n",
    "\n",
    "from rectools import Columns\n",
    "\n",
    "pd.set_option('display.max_columns', None)\n",
    "pd.set_option('display.max_colwidth', 200)\n",
    "\n"
   ]
  },
  {
   "cell_type": "code",
   "execution_count": 106,
   "id": "f85055b4",
   "metadata": {},
   "outputs": [
    {
     "data": {
      "text/plain": [
       "'0.4.4'"
      ]
     },
     "execution_count": 106,
     "metadata": {},
     "output_type": "execute_result"
    }
   ],
   "source": [
    "import implicit\n",
    "implicit.__version__"
   ]
  },
  {
   "cell_type": "code",
   "execution_count": 1,
   "id": "b75f6c5d",
   "metadata": {},
   "outputs": [],
   "source": [
    "import zipfile as zf\n",
    "import requests\n",
    "\n",
    "url = \"https://github.com/irsafilo/KION_DATASET/raw/f69775be31fa5779907cf0a92ddedb70037fb5ae/data_original.zip\"\n",
    "\n",
    "req = requests.get(url, stream=True)\n",
    "\n",
    "with open(\"kion.zip\", \"wb\") as fd:\n",
    "    total_size_in_bytes = int(req.headers.get(\"Content-Length\", 0))\n",
    "    for chunk in req.iter_content(chunk_size=2**20):\n",
    "        fd.write(chunk)\n",
    "\n",
    "files = zf.ZipFile(\"kion.zip\", \"r\")\n",
    "files.extractall()\n",
    "files.close()"
   ]
  },
  {
   "cell_type": "code",
   "execution_count": 4,
   "id": "4bacf5f5",
   "metadata": {},
   "outputs": [],
   "source": [
    "interactions = pd.read_csv('data_original/interactions.csv')\n",
    "users = pd.read_csv('data_original/users.csv')\n",
    "items = pd.read_csv('data_original/items.csv')"
   ]
  },
  {
   "cell_type": "code",
   "execution_count": 10,
   "id": "0843be79",
   "metadata": {},
   "outputs": [],
   "source": [
    "interactions['last_watch_dt'] = pd.to_datetime(interactions['last_watch_dt'])\n",
    "interactions.rename(\n",
    "    columns={\n",
    "        'last_watch_dt': 'datetime',\n",
    "        'watched_pct': 'weight',\n",
    "            },\n",
    "    inplace=True,\n",
    "    )"
   ]
  },
  {
   "cell_type": "code",
   "execution_count": 18,
   "id": "c77ea213",
   "metadata": {},
   "outputs": [],
   "source": [
    "def load_data():\n",
    "    interactions = pd.read_csv('data_original/interactions.csv')\n",
    "    users = pd.read_csv('data_original/users.csv')\n",
    "    items = pd.read_csv('data_original/items.csv')\n",
    "    interactions.rename(\n",
    "    columns={\n",
    "        'last_watch_dt': 'datetime',\n",
    "        'watched_pct': 'weight',\n",
    "            },\n",
    "    inplace=True,\n",
    "    )\n",
    "\n",
    "    interactions['datetime'] = pd.to_datetime(interactions['datetime'])\n",
    "    return interactions, users, items\n"
   ]
  },
  {
   "cell_type": "code",
   "execution_count": null,
   "id": "cc17522d",
   "metadata": {},
   "outputs": [],
   "source": []
  },
  {
   "cell_type": "markdown",
   "id": "531d7b98",
   "metadata": {},
   "source": [
    "# Recommend popular items"
   ]
  },
  {
   "cell_type": "code",
   "execution_count": 18,
   "id": "fc82fdf3",
   "metadata": {},
   "outputs": [],
   "source": [
    "def recommend_popular(\n",
    "    df: pd.DataFrame, k: int = 10, days: int = 7\n",
    ") -> list:\n",
    "    \"\"\"\n",
    "    Returns most popular items for the last k days\n",
    "    \"\"\"\n",
    "\n",
    "    min_date = df[\"datetime\"].max().normalize() - pd.DateOffset(days)\n",
    "    result = list(df.loc[df[\"datetime\"] > min_date, \"item_id\"]\n",
    "                   .value_counts()\n",
    "                   .head(k)\n",
    "                   .index.values)\n",
    "    return result"
   ]
  },
  {
   "cell_type": "code",
   "execution_count": 20,
   "id": "b1779ed0",
   "metadata": {},
   "outputs": [
    {
     "data": {
      "text/plain": [
       "[9728, 15297, 10440, 14488, 13865, 12192, 341, 4151, 3734, 512]"
      ]
     },
     "execution_count": 20,
     "metadata": {},
     "output_type": "execute_result"
    }
   ],
   "source": [
    "recommend_popular(interactions)"
   ]
  },
  {
   "cell_type": "markdown",
   "id": "6a5494e6",
   "metadata": {},
   "source": [
    "# KNN"
   ]
  },
  {
   "cell_type": "code",
   "execution_count": 146,
   "id": "ed617da0",
   "metadata": {},
   "outputs": [],
   "source": [
    "from collections import Counter\n",
    "from pathlib import Path\n",
    "from typing import Dict\n",
    "\n",
    "import dill\n",
    "import numpy as np\n",
    "import pandas as pd\n",
    "import scipy as sp\n",
    "from implicit.nearest_neighbours import CosineRecommender, ItemItemRecommender, BM25Recommender, TFIDFRecommender\n",
    "from rectools import Columns"
   ]
  },
  {
   "cell_type": "code",
   "execution_count": 142,
   "id": "de080b3c",
   "metadata": {},
   "outputs": [],
   "source": [
    "class UserKnn:\n",
    "    \"\"\"Class for fit-perdict UserKNN model\n",
    "    based on ItemKNN model from implicit.nearest_neighbours\n",
    "    \"\"\"\n",
    "\n",
    "    def __init__(self, model: ItemItemRecommender, N_users: int = 50):\n",
    "        self.N_users = N_users\n",
    "        self.model = model\n",
    "        self.is_fitted = False\n",
    "\n",
    "    def get_mappings(self, train):\n",
    "        self.users_inv_mapping = dict(enumerate(train[\"user_id\"].unique()))\n",
    "        self.users_mapping = {v: k for k, v in self.users_inv_mapping.items()}\n",
    "\n",
    "        self.items_inv_mapping = dict(enumerate(train[\"item_id\"].unique()))\n",
    "        self.items_mapping = {v: k for k, v in self.items_inv_mapping.items()}\n",
    "\n",
    "    def get_matrix(\n",
    "        self,\n",
    "        df: pd.DataFrame,\n",
    "        user_col: str = \"user_id\",\n",
    "        item_col: str = \"item_id\",\n",
    "        weight_col: str = \"weight\",\n",
    "        users_mapping: Dict[int, int] = None,\n",
    "        items_mapping: Dict[int, int] = None,\n",
    "    ):\n",
    "\n",
    "        if weight_col:\n",
    "            weights = df[weight_col].astype(np.float32)\n",
    "        else:\n",
    "            weights = np.ones(len(df), dtype=np.float32)\n",
    "\n",
    "        interaction_matrix = sp.sparse.coo_matrix(\n",
    "            (\n",
    "                weights,\n",
    "                (\n",
    "                    df[user_col].map(self.users_mapping.get),\n",
    "                    df[item_col].map(self.items_mapping.get),\n",
    "                ),\n",
    "            )\n",
    "        )\n",
    "\n",
    "        return interaction_matrix\n",
    "\n",
    "    def idf(self, n: int, x: float):\n",
    "        return np.log((1 + n) / (1 + x) + 1)\n",
    "\n",
    "    def _count_item_idf(self, df: pd.DataFrame):\n",
    "        item_cnt = Counter(df[\"item_id\"].values)\n",
    "        item_idf = pd.DataFrame.from_dict(\n",
    "            item_cnt, orient=\"index\", columns=[\"doc_freq\"]\n",
    "        ).reset_index()\n",
    "        item_idf[\"idf\"] = item_idf[\"doc_freq\"].apply(\n",
    "                            lambda x: self.idf(self.n, x)\n",
    "        )\n",
    "        self.item_idf = item_idf\n",
    "\n",
    "    def fit(self, train: pd.DataFrame):\n",
    "        self.user_knn = self.model\n",
    "        self.get_mappings(train)\n",
    "        self.weights_matrix = self.get_matrix(\n",
    "            train, users_mapping=self.users_mapping,\n",
    "            items_mapping=self.items_mapping\n",
    "        )\n",
    "\n",
    "        self.n = train.shape[0]\n",
    "        self._count_item_idf(train)\n",
    "\n",
    "        self.user_knn.fit(self.weights_matrix)\n",
    "        \n",
    "        watched_items_df = (train.groupby(\"user_id\")\n",
    "                                 .agg({\"item_id\": list})\n",
    "                                 .reset_index())\n",
    "        self.watched_items = {}\n",
    "        for _, row in watched_items_df.iterrows():\n",
    "            self.watched_items[row[\"user_id\"]] = row[\"item_id\"]\n",
    "\n",
    "        self.is_fitted = True\n",
    "\n",
    "    def _generate_recs_mapper(\n",
    "        self,\n",
    "        model: ItemItemRecommender,\n",
    "        user_mapping: Dict[int, int],\n",
    "        user_inv_mapping: Dict[int, int],\n",
    "        N: int,\n",
    "    ):\n",
    "        def _recs_mapper(user):\n",
    "            print(user)\n",
    "            user_id = user_mapping[user]\n",
    "            print(user_id)\n",
    "            recs = model.similar_items(user_id, N=N)\n",
    "            print(recs)\n",
    "            return [user_inv_mapping[user] for user, _ in recs], [\n",
    "                sim for _, sim in recs\n",
    "            ]\n",
    "\n",
    "        return _recs_mapper\n",
    "\n",
    "    def predict(self, test: pd.DataFrame, N_recs: int = 10) -> list:\n",
    "        \n",
    "        if not self.is_fitted:\n",
    "            raise ValueError(\"Please call fit before predict\")\n",
    "        \n",
    "        mapper = self._generate_recs_mapper(\n",
    "            model=self.user_knn,\n",
    "            user_mapping=self.users_mapping,\n",
    "            user_inv_mapping=self.users_inv_mapping,\n",
    "            N=self.N_users,\n",
    "        )\n",
    "        recs = pd.DataFrame({\"user_id\": test[\"user_id\"].unique()})\n",
    "        recs[\"sim_user_id\"], recs[\"sim\"] = zip(*recs[\"user_id\"].map(mapper))\n",
    "        recs = recs.set_index(\"user_id\").apply(pd.Series.explode).reset_index()\n",
    "        recs = recs[recs[\"user_id\"] != recs[\"sim_user_id\"]]\n",
    "        recs[\"item_id\"] = recs[\"user_id\"].apply(\n",
    "            lambda x: self.watched_items.get(x, [])\n",
    "        )\n",
    "        recs = recs.explode(\"item_id\")\n",
    "        recs = recs.sort_values([\"user_id\", \"sim\"], ascending=False)\n",
    "        recs = recs.drop_duplicates([\"user_id\", \"item_id\"], keep=\"first\")\n",
    "        recs = recs.merge(\n",
    "            self.item_idf, left_on=\"item_id\", right_on=\"index\", how=\"left\"\n",
    "        )\n",
    "        \n",
    "        recs[\"score\"] = recs[\"sim\"] * recs[\"idf\"]\n",
    "        recs = recs.sort_values([\"user_id\", \"score\"], ascending=False)\n",
    "        recs[\"rank\"] = recs.groupby(\"user_id\").cumcount() + 1\n",
    "        recs = recs[recs[\"rank\"] <= N_recs]\n",
    "        \n",
    "        return recs\n",
    "\n",
    "\n",
    "def main():\n",
    "    # Fit model\n",
    "    userknn_hot_users = UserKnn(BM25Recommender(), 30)\n",
    "    userknn_hot_users.fit(interactions)\n",
    "\n",
    "    # Save model\n",
    "    with open(\"userknn_hot_users.dill\", \"wb\") as f:\n",
    "        dill.dump(userknn_hot_users, f)\n"
   ]
  },
  {
   "cell_type": "code",
   "execution_count": 19,
   "id": "864e306e",
   "metadata": {},
   "outputs": [],
   "source": [
    "interactions, users, items = load_data()"
   ]
  },
  {
   "cell_type": "code",
   "execution_count": 20,
   "id": "af618745",
   "metadata": {},
   "outputs": [
    {
     "data": {
      "text/html": [
       "<div>\n",
       "<style scoped>\n",
       "    .dataframe tbody tr th:only-of-type {\n",
       "        vertical-align: middle;\n",
       "    }\n",
       "\n",
       "    .dataframe tbody tr th {\n",
       "        vertical-align: top;\n",
       "    }\n",
       "\n",
       "    .dataframe thead th {\n",
       "        text-align: right;\n",
       "    }\n",
       "</style>\n",
       "<table border=\"1\" class=\"dataframe\">\n",
       "  <thead>\n",
       "    <tr style=\"text-align: right;\">\n",
       "      <th></th>\n",
       "      <th>user_id</th>\n",
       "      <th>item_id</th>\n",
       "      <th>datetime</th>\n",
       "      <th>total_dur</th>\n",
       "      <th>weight</th>\n",
       "    </tr>\n",
       "  </thead>\n",
       "  <tbody>\n",
       "    <tr>\n",
       "      <th>0</th>\n",
       "      <td>176549</td>\n",
       "      <td>9506</td>\n",
       "      <td>2021-05-11</td>\n",
       "      <td>4250</td>\n",
       "      <td>72.0</td>\n",
       "    </tr>\n",
       "    <tr>\n",
       "      <th>1</th>\n",
       "      <td>699317</td>\n",
       "      <td>1659</td>\n",
       "      <td>2021-05-29</td>\n",
       "      <td>8317</td>\n",
       "      <td>100.0</td>\n",
       "    </tr>\n",
       "    <tr>\n",
       "      <th>2</th>\n",
       "      <td>656683</td>\n",
       "      <td>7107</td>\n",
       "      <td>2021-05-09</td>\n",
       "      <td>10</td>\n",
       "      <td>0.0</td>\n",
       "    </tr>\n",
       "    <tr>\n",
       "      <th>3</th>\n",
       "      <td>864613</td>\n",
       "      <td>7638</td>\n",
       "      <td>2021-07-05</td>\n",
       "      <td>14483</td>\n",
       "      <td>100.0</td>\n",
       "    </tr>\n",
       "    <tr>\n",
       "      <th>4</th>\n",
       "      <td>964868</td>\n",
       "      <td>9506</td>\n",
       "      <td>2021-04-30</td>\n",
       "      <td>6725</td>\n",
       "      <td>100.0</td>\n",
       "    </tr>\n",
       "  </tbody>\n",
       "</table>\n",
       "</div>"
      ],
      "text/plain": [
       "   user_id  item_id   datetime  total_dur  weight\n",
       "0   176549     9506 2021-05-11       4250    72.0\n",
       "1   699317     1659 2021-05-29       8317   100.0\n",
       "2   656683     7107 2021-05-09         10     0.0\n",
       "3   864613     7638 2021-07-05      14483   100.0\n",
       "4   964868     9506 2021-04-30       6725   100.0"
      ]
     },
     "execution_count": 20,
     "metadata": {},
     "output_type": "execute_result"
    }
   ],
   "source": [
    "interactions.head()"
   ]
  },
  {
   "cell_type": "code",
   "execution_count": 21,
   "id": "83d50ed1",
   "metadata": {},
   "outputs": [
    {
     "data": {
      "text/html": [
       "<div>\n",
       "<style scoped>\n",
       "    .dataframe tbody tr th:only-of-type {\n",
       "        vertical-align: middle;\n",
       "    }\n",
       "\n",
       "    .dataframe tbody tr th {\n",
       "        vertical-align: top;\n",
       "    }\n",
       "\n",
       "    .dataframe thead th {\n",
       "        text-align: right;\n",
       "    }\n",
       "</style>\n",
       "<table border=\"1\" class=\"dataframe\">\n",
       "  <thead>\n",
       "    <tr style=\"text-align: right;\">\n",
       "      <th></th>\n",
       "      <th>user_id</th>\n",
       "      <th>age</th>\n",
       "      <th>income</th>\n",
       "      <th>sex</th>\n",
       "      <th>kids_flg</th>\n",
       "    </tr>\n",
       "  </thead>\n",
       "  <tbody>\n",
       "    <tr>\n",
       "      <th>0</th>\n",
       "      <td>973171</td>\n",
       "      <td>age_25_34</td>\n",
       "      <td>income_60_90</td>\n",
       "      <td>М</td>\n",
       "      <td>1</td>\n",
       "    </tr>\n",
       "    <tr>\n",
       "      <th>1</th>\n",
       "      <td>962099</td>\n",
       "      <td>age_18_24</td>\n",
       "      <td>income_20_40</td>\n",
       "      <td>М</td>\n",
       "      <td>0</td>\n",
       "    </tr>\n",
       "    <tr>\n",
       "      <th>2</th>\n",
       "      <td>1047345</td>\n",
       "      <td>age_45_54</td>\n",
       "      <td>income_40_60</td>\n",
       "      <td>Ж</td>\n",
       "      <td>0</td>\n",
       "    </tr>\n",
       "    <tr>\n",
       "      <th>3</th>\n",
       "      <td>721985</td>\n",
       "      <td>age_45_54</td>\n",
       "      <td>income_20_40</td>\n",
       "      <td>Ж</td>\n",
       "      <td>0</td>\n",
       "    </tr>\n",
       "    <tr>\n",
       "      <th>4</th>\n",
       "      <td>704055</td>\n",
       "      <td>age_35_44</td>\n",
       "      <td>income_60_90</td>\n",
       "      <td>Ж</td>\n",
       "      <td>0</td>\n",
       "    </tr>\n",
       "  </tbody>\n",
       "</table>\n",
       "</div>"
      ],
      "text/plain": [
       "   user_id        age        income sex  kids_flg\n",
       "0   973171  age_25_34  income_60_90   М         1\n",
       "1   962099  age_18_24  income_20_40   М         0\n",
       "2  1047345  age_45_54  income_40_60   Ж         0\n",
       "3   721985  age_45_54  income_20_40   Ж         0\n",
       "4   704055  age_35_44  income_60_90   Ж         0"
      ]
     },
     "execution_count": 21,
     "metadata": {},
     "output_type": "execute_result"
    }
   ],
   "source": [
    "users.head()"
   ]
  },
  {
   "cell_type": "code",
   "execution_count": 22,
   "id": "db1340b2",
   "metadata": {},
   "outputs": [
    {
     "data": {
      "text/html": [
       "<div>\n",
       "<style scoped>\n",
       "    .dataframe tbody tr th:only-of-type {\n",
       "        vertical-align: middle;\n",
       "    }\n",
       "\n",
       "    .dataframe tbody tr th {\n",
       "        vertical-align: top;\n",
       "    }\n",
       "\n",
       "    .dataframe thead th {\n",
       "        text-align: right;\n",
       "    }\n",
       "</style>\n",
       "<table border=\"1\" class=\"dataframe\">\n",
       "  <thead>\n",
       "    <tr style=\"text-align: right;\">\n",
       "      <th></th>\n",
       "      <th>item_id</th>\n",
       "      <th>content_type</th>\n",
       "      <th>title</th>\n",
       "      <th>title_orig</th>\n",
       "      <th>release_year</th>\n",
       "      <th>genres</th>\n",
       "      <th>countries</th>\n",
       "      <th>for_kids</th>\n",
       "      <th>age_rating</th>\n",
       "      <th>studios</th>\n",
       "      <th>directors</th>\n",
       "      <th>actors</th>\n",
       "      <th>description</th>\n",
       "      <th>keywords</th>\n",
       "    </tr>\n",
       "  </thead>\n",
       "  <tbody>\n",
       "    <tr>\n",
       "      <th>0</th>\n",
       "      <td>10711</td>\n",
       "      <td>film</td>\n",
       "      <td>Поговори с ней</td>\n",
       "      <td>Hable con ella</td>\n",
       "      <td>2002.0</td>\n",
       "      <td>драмы, зарубежные, детективы, мелодрамы</td>\n",
       "      <td>Испания</td>\n",
       "      <td>NaN</td>\n",
       "      <td>16.0</td>\n",
       "      <td>NaN</td>\n",
       "      <td>Педро Альмодовар</td>\n",
       "      <td>Адольфо Фернандес, Ана Фернандес, Дарио Грандинетти, Джеральдин Чаплин, Елена Анайя, Каэтано Велозо, Леонор Уотлинг, Лола Дуэньяс, Лолес Леон, Малу Айродо, Мариола Фуэнтес, Пас Вега, Пина Бауш, Ро...</td>\n",
       "      <td>Мелодрама легендарного Педро Альмодовара «Поговори с ней» в 2003 году получила премию «Оскар» за лучший сценарий.  Журналист Марко берет интервью у знаменитой женщины-тореро Лидии и вскоре влюбляе...</td>\n",
       "      <td>Поговори, ней, 2002, Испания, друзья, любовь, сильные, женщины, преодоление, трудностей, отношения, дружба, отношения, паре, отношения, мужчины, женщины, романтические, отношения, потеря, близких,...</td>\n",
       "    </tr>\n",
       "  </tbody>\n",
       "</table>\n",
       "</div>"
      ],
      "text/plain": [
       "   item_id content_type           title      title_orig  release_year  \\\n",
       "0    10711         film  Поговори с ней  Hable con ella        2002.0   \n",
       "\n",
       "                                    genres countries  for_kids  age_rating  \\\n",
       "0  драмы, зарубежные, детективы, мелодрамы   Испания       NaN        16.0   \n",
       "\n",
       "  studios         directors  \\\n",
       "0     NaN  Педро Альмодовар   \n",
       "\n",
       "                                                                                                                                                                                                    actors  \\\n",
       "0  Адольфо Фернандес, Ана Фернандес, Дарио Грандинетти, Джеральдин Чаплин, Елена Анайя, Каэтано Велозо, Леонор Уотлинг, Лола Дуэньяс, Лолес Леон, Малу Айродо, Мариола Фуэнтес, Пас Вега, Пина Бауш, Ро...   \n",
       "\n",
       "                                                                                                                                                                                               description  \\\n",
       "0  Мелодрама легендарного Педро Альмодовара «Поговори с ней» в 2003 году получила премию «Оскар» за лучший сценарий.  Журналист Марко берет интервью у знаменитой женщины-тореро Лидии и вскоре влюбляе...   \n",
       "\n",
       "                                                                                                                                                                                                  keywords  \n",
       "0  Поговори, ней, 2002, Испания, друзья, любовь, сильные, женщины, преодоление, трудностей, отношения, дружба, отношения, паре, отношения, мужчины, женщины, романтические, отношения, потеря, близких,...  "
      ]
     },
     "execution_count": 22,
     "metadata": {},
     "output_type": "execute_result"
    }
   ],
   "source": [
    "items.head(1)"
   ]
  },
  {
   "cell_type": "markdown",
   "id": "ea6e8c5d",
   "metadata": {},
   "source": [
    "Разделю пользователей на горячих и теплых/холодных"
   ]
  },
  {
   "cell_type": "code",
   "execution_count": 33,
   "id": "8e2a97b1",
   "metadata": {},
   "outputs": [
    {
     "data": {
      "text/html": [
       "<div>\n",
       "<style scoped>\n",
       "    .dataframe tbody tr th:only-of-type {\n",
       "        vertical-align: middle;\n",
       "    }\n",
       "\n",
       "    .dataframe tbody tr th {\n",
       "        vertical-align: top;\n",
       "    }\n",
       "\n",
       "    .dataframe thead th {\n",
       "        text-align: right;\n",
       "    }\n",
       "</style>\n",
       "<table border=\"1\" class=\"dataframe\">\n",
       "  <thead>\n",
       "    <tr style=\"text-align: right;\">\n",
       "      <th></th>\n",
       "      <th>user_id</th>\n",
       "      <th>item_id</th>\n",
       "    </tr>\n",
       "  </thead>\n",
       "  <tbody>\n",
       "    <tr>\n",
       "      <th>0</th>\n",
       "      <td>0</td>\n",
       "      <td>6</td>\n",
       "    </tr>\n",
       "    <tr>\n",
       "      <th>1</th>\n",
       "      <td>1</td>\n",
       "      <td>2</td>\n",
       "    </tr>\n",
       "    <tr>\n",
       "      <th>2</th>\n",
       "      <td>2</td>\n",
       "      <td>49</td>\n",
       "    </tr>\n",
       "    <tr>\n",
       "      <th>3</th>\n",
       "      <td>3</td>\n",
       "      <td>30</td>\n",
       "    </tr>\n",
       "    <tr>\n",
       "      <th>4</th>\n",
       "      <td>4</td>\n",
       "      <td>2</td>\n",
       "    </tr>\n",
       "    <tr>\n",
       "      <th>...</th>\n",
       "      <td>...</td>\n",
       "      <td>...</td>\n",
       "    </tr>\n",
       "    <tr>\n",
       "      <th>962174</th>\n",
       "      <td>1097553</td>\n",
       "      <td>4</td>\n",
       "    </tr>\n",
       "    <tr>\n",
       "      <th>962175</th>\n",
       "      <td>1097554</td>\n",
       "      <td>10</td>\n",
       "    </tr>\n",
       "    <tr>\n",
       "      <th>962176</th>\n",
       "      <td>1097555</td>\n",
       "      <td>7</td>\n",
       "    </tr>\n",
       "    <tr>\n",
       "      <th>962177</th>\n",
       "      <td>1097556</td>\n",
       "      <td>1</td>\n",
       "    </tr>\n",
       "    <tr>\n",
       "      <th>962178</th>\n",
       "      <td>1097557</td>\n",
       "      <td>3</td>\n",
       "    </tr>\n",
       "  </tbody>\n",
       "</table>\n",
       "<p>962179 rows × 2 columns</p>\n",
       "</div>"
      ],
      "text/plain": [
       "        user_id  item_id\n",
       "0             0        6\n",
       "1             1        2\n",
       "2             2       49\n",
       "3             3       30\n",
       "4             4        2\n",
       "...         ...      ...\n",
       "962174  1097553        4\n",
       "962175  1097554       10\n",
       "962176  1097555        7\n",
       "962177  1097556        1\n",
       "962178  1097557        3\n",
       "\n",
       "[962179 rows x 2 columns]"
      ]
     },
     "execution_count": 33,
     "metadata": {},
     "output_type": "execute_result"
    }
   ],
   "source": [
    "# Preparing of the Hot Users\n",
    "interactions_count = interactions.groupby(\"user_id\")[[\"item_id\"]].count().reset_index()\n",
    "interactions_count"
   ]
  },
  {
   "cell_type": "code",
   "execution_count": 35,
   "id": "84068ad9",
   "metadata": {},
   "outputs": [
    {
     "data": {
      "text/plain": [
       "<AxesSubplot:>"
      ]
     },
     "execution_count": 35,
     "metadata": {},
     "output_type": "execute_result"
    },
    {
     "data": {
      "image/png": "[encoded data removed]",
      "text/plain": [
       "<Figure size 640x480 with 1 Axes>"
      ]
     },
     "metadata": {},
     "output_type": "display_data"
    }
   ],
   "source": [
    "interactions_count[interactions_count.item_id < 50].item_id.hist(bins = 30)"
   ]
  },
  {
   "cell_type": "code",
   "execution_count": 84,
   "id": "4061ac8f",
   "metadata": {},
   "outputs": [
    {
     "data": {
      "text/plain": [
       "(145410, 816769)"
      ]
     },
     "execution_count": 84,
     "metadata": {},
     "output_type": "execute_result"
    }
   ],
   "source": [
    "# считаю пользователя горячим, если у него больше 10 взамодействий\n",
    "hot_users = interactions_count[interactions_count.item_id >= 10].user_id.values\n",
    "cold_users = interactions_count[~(interactions_count.item_id >= 10)].user_id.values\n",
    "\n",
    "len(hot_users), len(cold_users)"
   ]
  },
  {
   "cell_type": "code",
   "execution_count": 108,
   "id": "ed9a8c9f",
   "metadata": {},
   "outputs": [
    {
     "data": {
      "text/plain": [
       "(array([      2,       3,       5, ..., 1097534, 1097544, 1097554]),\n",
       " array([      0,       1,       4, ..., 1097555, 1097556, 1097557]))"
      ]
     },
     "execution_count": 108,
     "metadata": {},
     "output_type": "execute_result"
    }
   ],
   "source": [
    "hot_users, cold_users"
   ]
  },
  {
   "cell_type": "code",
   "execution_count": 85,
   "id": "133cb9c4",
   "metadata": {},
   "outputs": [
    {
     "data": {
      "text/plain": [
       "3260927"
      ]
     },
     "execution_count": 85,
     "metadata": {},
     "output_type": "execute_result"
    }
   ],
   "source": [
    "hot_interactions = interactions[interactions[\"user_id\"].isin(hot_users)].sort_values([\"user_id\", \"datetime\"])\n",
    "hot_interactions.shape[0]"
   ]
  },
  {
   "cell_type": "code",
   "execution_count": 86,
   "id": "882be0ec",
   "metadata": {},
   "outputs": [],
   "source": [
    "user_type_dict = {i : 'hot' if i in hot_users else 'cold' for i in interactions_count.user_id.values}"
   ]
  },
  {
   "cell_type": "code",
   "execution_count": 87,
   "id": "dc29f8d7",
   "metadata": {},
   "outputs": [],
   "source": [
    "with open(\"user_categories.dill\", \"wb\") as f:\n",
    "        dill.dump(user_type_dict, f)"
   ]
  },
  {
   "cell_type": "code",
   "execution_count": 88,
   "id": "c705936b",
   "metadata": {},
   "outputs": [],
   "source": [
    "#with open(\"user_categories.dill\", \"rb\") as f:\n",
    "#        user_type_dict = dill.load(f)"
   ]
  },
  {
   "cell_type": "code",
   "execution_count": 89,
   "id": "ba1c1e90",
   "metadata": {},
   "outputs": [
    {
     "data": {
      "text/plain": [
       "962179"
      ]
     },
     "execution_count": 89,
     "metadata": {},
     "output_type": "execute_result"
    }
   ],
   "source": [
    "len(user_type_dict)"
   ]
  },
  {
   "cell_type": "markdown",
   "id": "f54c0604",
   "metadata": {},
   "source": [
    "Обучение и сохранение модели"
   ]
  },
  {
   "cell_type": "code",
   "execution_count": 147,
   "id": "8e8d751b",
   "metadata": {},
   "outputs": [
    {
     "data": {
      "application/vnd.jupyter.widget-view+json": {
       "model_id": "5c379cc478594905aa680098d785e7c7",
       "version_major": 2,
       "version_minor": 0
      },
      "text/plain": [
       "  0%|          | 0/145410 [00:00<?, ?it/s]"
      ]
     },
     "metadata": {},
     "output_type": "display_data"
    }
   ],
   "source": [
    "userknn_hot_users = UserKnn(BM25Recommender(), 50)\n",
    "userknn_hot_users.fit(hot_interactions)"
   ]
  },
  {
   "cell_type": "code",
   "execution_count": 148,
   "id": "caada685",
   "metadata": {},
   "outputs": [],
   "source": [
    "with open(\"userknn_hot_users.dill\", \"wb\") as f:\n",
    "        dill.dump(userknn_hot_users, f)"
   ]
  },
  {
   "cell_type": "code",
   "execution_count": 113,
   "id": "b717e7c0",
   "metadata": {},
   "outputs": [],
   "source": [
    "#with open(\"../models/userknn_hot_users.dill\", \"rb\") as f:\n",
    "#        userknn_hot_users = dill.load(f)"
   ]
  },
  {
   "cell_type": "code",
   "execution_count": 140,
   "id": "e310252c",
   "metadata": {},
   "outputs": [],
   "source": [
    "one_user_df = interactions[interactions[\"user_id\"] == 2][\n",
    "                    [\"user_id\", \"item_id\", \"weight\"]\n",
    "                ]"
   ]
  },
  {
   "cell_type": "code",
   "execution_count": 116,
   "id": "86828bed",
   "metadata": {},
   "outputs": [
    {
     "data": {
      "text/html": [
       "<div>\n",
       "<style scoped>\n",
       "    .dataframe tbody tr th:only-of-type {\n",
       "        vertical-align: middle;\n",
       "    }\n",
       "\n",
       "    .dataframe tbody tr th {\n",
       "        vertical-align: top;\n",
       "    }\n",
       "\n",
       "    .dataframe thead th {\n",
       "        text-align: right;\n",
       "    }\n",
       "</style>\n",
       "<table border=\"1\" class=\"dataframe\">\n",
       "  <thead>\n",
       "    <tr style=\"text-align: right;\">\n",
       "      <th></th>\n",
       "      <th>user_id</th>\n",
       "      <th>sim_user_id</th>\n",
       "      <th>sim</th>\n",
       "      <th>item_id</th>\n",
       "      <th>index</th>\n",
       "      <th>doc_freq</th>\n",
       "      <th>idf</th>\n",
       "      <th>score</th>\n",
       "      <th>rank</th>\n",
       "    </tr>\n",
       "  </thead>\n",
       "  <tbody>\n",
       "    <tr>\n",
       "      <th>44</th>\n",
       "      <td>2</td>\n",
       "      <td>61324</td>\n",
       "      <td>0.415331</td>\n",
       "      <td>3628</td>\n",
       "      <td>3628</td>\n",
       "      <td>105</td>\n",
       "      <td>10.334116</td>\n",
       "      <td>4.292082</td>\n",
       "      <td>1</td>\n",
       "    </tr>\n",
       "    <tr>\n",
       "      <th>3</th>\n",
       "      <td>2</td>\n",
       "      <td>61324</td>\n",
       "      <td>0.415331</td>\n",
       "      <td>8936</td>\n",
       "      <td>8936</td>\n",
       "      <td>154</td>\n",
       "      <td>9.954145</td>\n",
       "      <td>4.134268</td>\n",
       "      <td>2</td>\n",
       "    </tr>\n",
       "    <tr>\n",
       "      <th>42</th>\n",
       "      <td>2</td>\n",
       "      <td>61324</td>\n",
       "      <td>0.415331</td>\n",
       "      <td>5819</td>\n",
       "      <td>5819</td>\n",
       "      <td>279</td>\n",
       "      <td>9.362819</td>\n",
       "      <td>3.888672</td>\n",
       "      <td>3</td>\n",
       "    </tr>\n",
       "    <tr>\n",
       "      <th>45</th>\n",
       "      <td>2</td>\n",
       "      <td>61324</td>\n",
       "      <td>0.415331</td>\n",
       "      <td>242</td>\n",
       "      <td>242</td>\n",
       "      <td>335</td>\n",
       "      <td>9.180514</td>\n",
       "      <td>3.812955</td>\n",
       "      <td>4</td>\n",
       "    </tr>\n",
       "    <tr>\n",
       "      <th>8</th>\n",
       "      <td>2</td>\n",
       "      <td>61324</td>\n",
       "      <td>0.415331</td>\n",
       "      <td>15196</td>\n",
       "      <td>15196</td>\n",
       "      <td>457</td>\n",
       "      <td>8.870794</td>\n",
       "      <td>3.684318</td>\n",
       "      <td>5</td>\n",
       "    </tr>\n",
       "    <tr>\n",
       "      <th>1</th>\n",
       "      <td>2</td>\n",
       "      <td>61324</td>\n",
       "      <td>0.415331</td>\n",
       "      <td>11577</td>\n",
       "      <td>11577</td>\n",
       "      <td>551</td>\n",
       "      <td>8.684144</td>\n",
       "      <td>3.606797</td>\n",
       "      <td>6</td>\n",
       "    </tr>\n",
       "    <tr>\n",
       "      <th>41</th>\n",
       "      <td>2</td>\n",
       "      <td>61324</td>\n",
       "      <td>0.415331</td>\n",
       "      <td>7921</td>\n",
       "      <td>7921</td>\n",
       "      <td>557</td>\n",
       "      <td>8.673335</td>\n",
       "      <td>3.602308</td>\n",
       "      <td>7</td>\n",
       "    </tr>\n",
       "    <tr>\n",
       "      <th>43</th>\n",
       "      <td>2</td>\n",
       "      <td>61324</td>\n",
       "      <td>0.415331</td>\n",
       "      <td>12449</td>\n",
       "      <td>12449</td>\n",
       "      <td>589</td>\n",
       "      <td>8.617581</td>\n",
       "      <td>3.579151</td>\n",
       "      <td>8</td>\n",
       "    </tr>\n",
       "    <tr>\n",
       "      <th>40</th>\n",
       "      <td>2</td>\n",
       "      <td>61324</td>\n",
       "      <td>0.415331</td>\n",
       "      <td>8482</td>\n",
       "      <td>8482</td>\n",
       "      <td>594</td>\n",
       "      <td>8.609143</td>\n",
       "      <td>3.575647</td>\n",
       "      <td>9</td>\n",
       "    </tr>\n",
       "    <tr>\n",
       "      <th>39</th>\n",
       "      <td>2</td>\n",
       "      <td>61324</td>\n",
       "      <td>0.415331</td>\n",
       "      <td>7106</td>\n",
       "      <td>7106</td>\n",
       "      <td>622</td>\n",
       "      <td>8.563167</td>\n",
       "      <td>3.556551</td>\n",
       "      <td>10</td>\n",
       "    </tr>\n",
       "  </tbody>\n",
       "</table>\n",
       "</div>"
      ],
      "text/plain": [
       "    user_id sim_user_id       sim item_id  index  doc_freq        idf  \\\n",
       "44        2       61324  0.415331    3628   3628       105  10.334116   \n",
       "3         2       61324  0.415331    8936   8936       154   9.954145   \n",
       "42        2       61324  0.415331    5819   5819       279   9.362819   \n",
       "45        2       61324  0.415331     242    242       335   9.180514   \n",
       "8         2       61324  0.415331   15196  15196       457   8.870794   \n",
       "1         2       61324  0.415331   11577  11577       551   8.684144   \n",
       "41        2       61324  0.415331    7921   7921       557   8.673335   \n",
       "43        2       61324  0.415331   12449  12449       589   8.617581   \n",
       "40        2       61324  0.415331    8482   8482       594   8.609143   \n",
       "39        2       61324  0.415331    7106   7106       622   8.563167   \n",
       "\n",
       "       score  rank  \n",
       "44  4.292082     1  \n",
       "3   4.134268     2  \n",
       "42  3.888672     3  \n",
       "45  3.812955     4  \n",
       "8   3.684318     5  \n",
       "1   3.606797     6  \n",
       "41  3.602308     7  \n",
       "43  3.579151     8  \n",
       "40  3.575647     9  \n",
       "39  3.556551    10  "
      ]
     },
     "execution_count": 116,
     "metadata": {},
     "output_type": "execute_result"
    }
   ],
   "source": [
    "userknn_hot_users.predict(one_user_df)"
   ]
  },
  {
   "cell_type": "code",
   "execution_count": 104,
   "id": "83c3fc5e",
   "metadata": {},
   "outputs": [],
   "source": [
    "def full_reco_items_list(\n",
    "    arr_reco_after_model: np.array, pop_array: np.array, number: int\n",
    ") -> list:\n",
    "    \"\"\"\n",
    "    Add number of items from pop_array to arr_reco_after_model.\n",
    "    Return array of 10 unique items\n",
    "    \"\"\"\n",
    "\n",
    "    CONST_K = 10\n",
    "\n",
    "    size_of_array = np.unique(arr_reco_after_model).size\n",
    "    if size_of_array == CONST_K:\n",
    "        return arr_reco_after_model\n",
    "\n",
    "    # all duplicates will be deleting and adding some items from pop_array\n",
    "    def del_repeat_items(full_arr_mix_pop: np.array, k: int = CONST_K) -> np.array:\n",
    "        \"\"\"\n",
    "        Delete all duplicates items in array\n",
    "        \"\"\"\n",
    "\n",
    "        size_of_array = np.unique(full_arr_mix_pop).size\n",
    "        if size_of_array == CONST_K:\n",
    "            return full_arr_mix_pop\n",
    "        else:\n",
    "            # delete duplicates and save the order of items\n",
    "            full_arr_mix_pop = full_arr_mix_pop[\n",
    "                np.sort(np.unique(full_arr_mix_pop, return_index=True)[1])\n",
    "            ]\n",
    "            # add new items from pop_array\n",
    "            i = k - size_of_array\n",
    "            full_arr_mix_pop = np.concatenate(\n",
    "                (full_arr_mix_pop, np.random.choice(pop_array, i, replace=False))\n",
    "            )\n",
    "            return del_repeat_items(full_arr_mix_pop)\n",
    "\n",
    "    full_arr_mix_pop = np.array([])\n",
    "    full_arr_mix_pop = np.concatenate((arr_reco_after_model, pop_array[:number]))\n",
    "    full_arr_mix_pop = del_repeat_items(full_arr_mix_pop)\n",
    "\n",
    "    return list(full_arr_mix_pop)\n",
    "\n",
    "\n",
    "def knn_make_predict(model, data: pd.DataFrame, list_pop_items: list) -> list:\n",
    "    \"\"\"\n",
    "    Gets predict after bas-model and add lacking items(to 10)\n",
    "    for each user if it needed\n",
    "    \"\"\"\n",
    "\n",
    "    predict = model.predict(data, 10)\n",
    "    predict = predict[\"item_id\"].unique()\n",
    "\n",
    "    predict_len = len(predict)\n",
    "    \n",
    "    if predict_len < 10:\n",
    "        predict = predict + list_pop_items[:(10-predict_len)]\n",
    "\n",
    "\n",
    "    return list(predict)"
   ]
  },
  {
   "cell_type": "code",
   "execution_count": 144,
   "id": "b1d57da6",
   "metadata": {
    "scrolled": false
   },
   "outputs": [
    {
     "name": "stdout",
     "output_type": "stream",
     "text": [
      "2\n",
      "0\n",
      "[(0, 1.0000000000000002), (8034, 0.41533132465235023), (113635, 0.38479562935785155), (51087, 0.3490052135373378), (84625, 0.3121651038877771), (97851, 0.3092264487933854), (99443, 0.3064587001163053), (142163, 0.3050362209545266), (55068, 0.30449460173004084), (75762, 0.3034352234600651), (90379, 0.30329077967634205), (113677, 0.30168531974290846), (91583, 0.30144846179060486), (90155, 0.3014420526664354), (117669, 0.30096091377328715), (95988, 0.30087080729733046), (69217, 0.2984967169702066), (39124, 0.29612446187430697), (66804, 0.2940629594697141), (86139, 0.29357212102455577)]\n"
     ]
    },
    {
     "data": {
      "text/plain": [
       "[3628, 8936, 5819, 242, 15196, 11577, 7921, 12449, 8482, 7106]"
      ]
     },
     "execution_count": 144,
     "metadata": {},
     "output_type": "execute_result"
    }
   ],
   "source": [
    "knn_make_predict(userknn_hot_users, one_user_df, [9728, 15297, 10440, 14488, 13865, 12192, 341, 4151, 3734, 512])"
   ]
  },
  {
   "cell_type": "code",
   "execution_count": 145,
   "id": "60faa773",
   "metadata": {},
   "outputs": [
    {
     "data": {
      "text/plain": [
       "'0.4.4'"
      ]
     },
     "execution_count": 145,
     "metadata": {},
     "output_type": "execute_result"
    }
   ],
   "source": [
    "implicit.__version__"
   ]
  },
  {
   "cell_type": "code",
   "execution_count": null,
   "id": "6aca11f3",
   "metadata": {},
   "outputs": [],
   "source": []
  }
 ],
 "metadata": {
  "kernelspec": {
   "display_name": "Python 3 (ipykernel)",
   "language": "python",
   "name": "python3"
  },
  "language_info": {
   "codemirror_mode": {
    "name": "ipython",
    "version": 3
   },
   "file_extension": ".py",
   "mimetype": "text/x-python",
   "name": "python",
   "nbconvert_exporter": "python",
   "pygments_lexer": "ipython3",
   "version": "3.9.15"
  }
 },
 "nbformat": 4,
 "nbformat_minor": 5
}
